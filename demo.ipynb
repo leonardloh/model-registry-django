{
 "cells": [
  {
   "cell_type": "code",
   "execution_count": 2,
   "metadata": {},
   "outputs": [
    {
     "name": "stdout",
     "output_type": "stream",
     "text": [
      "Created project: Customer Churn Prediction (ID: 1)\n"
     ]
    }
   ],
   "source": [
    "import requests\n",
    "import json\n",
    "\n",
    "base_url = \"http://127.0.0.1:8000/api\"\n",
    "\n",
    "# Create a project\n",
    "project_data = {\n",
    "    \"project_name\": \"Customer Churn Prediction\",\n",
    "    \"project_description\": \"Predicting customer churn for a telecom company\"\n",
    "}\n",
    "\n",
    "response = requests.post(f\"{base_url}/projects/\", json=project_data)\n",
    "project = response.json()\n",
    "project_id = project['id']\n",
    "print(f\"Created project: {project['project_name']} (ID: {project_id})\")"
   ]
  },
  {
   "cell_type": "markdown",
   "metadata": {},
   "source": [
    "# Register Model ID"
   ]
  },
  {
   "cell_type": "code",
   "execution_count": 3,
   "metadata": {},
   "outputs": [
    {
     "name": "stdout",
     "output_type": "stream",
     "text": [
      "Registered model: RandomForestClassifier (ID: 1)\n"
     ]
    }
   ],
   "source": [
    "model_data = {\n",
    "    \"model_name\": \"RandomForestClassifier\",\n",
    "    \"model_description\": \"Random Forest model for churn prediction\",\n",
    "    \"project\": project_id\n",
    "}\n",
    "\n",
    "response = requests.post(f\"{base_url}/models/\", json=model_data)\n",
    "model = response.json()\n",
    "model_id = model['id']\n",
    "print(f\"Registered model: {model['model_name']} (ID: {model_id})\")"
   ]
  },
  {
   "cell_type": "markdown",
   "metadata": {},
   "source": [
    "# Log a model version"
   ]
  },
  {
   "cell_type": "code",
   "execution_count": 4,
   "metadata": {},
   "outputs": [
    {
     "name": "stdout",
     "output_type": "stream",
     "text": [
      "Logged version: 1 (ID: 1)\n"
     ]
    }
   ],
   "source": [
    "# Log a model version\n",
    "version_data = {\n",
    "    \"version\": 1,  # Now using an integer\n",
    "    \"model\": model_id\n",
    "}\n",
    "\n",
    "response = requests.post(f\"{base_url}/versions/\", json=version_data)\n",
    "version = response.json()\n",
    "version_id = version['id']\n",
    "print(f\"Logged version: {version['version']} (ID: {version_id})\")"
   ]
  },
  {
   "cell_type": "markdown",
   "metadata": {},
   "source": [
    "# Record metadata"
   ]
  },
  {
   "cell_type": "code",
   "execution_count": 5,
   "metadata": {},
   "outputs": [
    {
     "name": "stdout",
     "output_type": "stream",
     "text": [
      "Recorded metadata: n_estimators = 100\n",
      "Recorded metadata: max_depth = 10\n",
      "Recorded metadata: training_data_size = 10000\n"
     ]
    }
   ],
   "source": [
    "metadata = [\n",
    "    {\"key\": \"n_estimators\", \"value\": \"100\", \"version\": version_id},\n",
    "    {\"key\": \"max_depth\", \"value\": \"10\", \"version\": version_id},\n",
    "    {\"key\": \"training_data_size\", \"value\": \"10000\", \"version\": version_id}\n",
    "]\n",
    "\n",
    "for item in metadata:\n",
    "    response = requests.post(f\"{base_url}/metadata/\", json=item)\n",
    "    print(f\"Recorded metadata: {item['key']} = {item['value']}\")"
   ]
  },
  {
   "cell_type": "markdown",
   "metadata": {},
   "source": [
    "# Log performance metrics"
   ]
  },
  {
   "cell_type": "code",
   "execution_count": 6,
   "metadata": {},
   "outputs": [
    {
     "name": "stdout",
     "output_type": "stream",
     "text": [
      "Logged performance metric: accuracy = 0.85\n",
      "Logged performance metric: f1_score = 0.83\n",
      "Logged performance metric: auc_roc = 0.91\n"
     ]
    }
   ],
   "source": [
    "performance_metrics = [\n",
    "    {\"key\": \"accuracy\", \"value\": \"0.85\", \"version\": version_id},\n",
    "    {\"key\": \"f1_score\", \"value\": \"0.83\", \"version\": version_id},\n",
    "    {\"key\": \"auc_roc\", \"value\": \"0.91\", \"version\": version_id}\n",
    "]\n",
    "\n",
    "for metric in performance_metrics:\n",
    "    response = requests.post(f\"{base_url}/performance/\", json=metric)\n",
    "    print(f\"Logged performance metric: {metric['key']} = {metric['value']}\")"
   ]
  },
  {
   "cell_type": "markdown",
   "metadata": {},
   "source": [
    "# Update Model Status"
   ]
  },
  {
   "cell_type": "code",
   "execution_count": 8,
   "metadata": {},
   "outputs": [
    {
     "name": "stdout",
     "output_type": "stream",
     "text": [
      "Updated model status: Testing\n"
     ]
    }
   ],
   "source": [
    "status_data = {\n",
    "    \"model_status\": \"Testing\",\n",
    "    \"version\": version_id\n",
    "}\n",
    "\n",
    "response = requests.post(f\"{base_url}/status/\", json=status_data)\n",
    "print(f\"Updated model status: {status_data['model_status']}\")"
   ]
  },
  {
   "cell_type": "markdown",
   "metadata": {},
   "source": [
    "# Log a new version"
   ]
  },
  {
   "cell_type": "code",
   "execution_count": 9,
   "metadata": {},
   "outputs": [
    {
     "name": "stdout",
     "output_type": "stream",
     "text": [
      "Logged new version: 2 (ID: 2)\n"
     ]
    }
   ],
   "source": [
    "new_version_data = {\n",
    "    \"version\": 2,  # Incrementing the version number\n",
    "    \"model\": model_id\n",
    "}\n",
    "response = requests.post(f\"{base_url}/versions/\", json=new_version_data)\n",
    "new_version = response.json()\n",
    "print(f\"Logged new version: {new_version['version']} (ID: {new_version['id']})\")"
   ]
  },
  {
   "cell_type": "markdown",
   "metadata": {},
   "source": [
    "# Get all versions of a model"
   ]
  },
  {
   "cell_type": "code",
   "execution_count": 11,
   "metadata": {},
   "outputs": [
    {
     "name": "stdout",
     "output_type": "stream",
     "text": [
      "Model versions: {'count': 2, 'next': None, 'previous': None, 'results': [{'id': 1, 'version': 1, 'datetime': '2024-06-28T11:58:24.350003Z', 'model': 1}, {'id': 2, 'version': 2, 'datetime': '2024-06-28T12:06:45.798483Z', 'model': 1}]}\n"
     ]
    }
   ],
   "source": [
    "response = requests.get(f\"{base_url}/versions/?model={model_id}\")\n",
    "versions = response.json()\n",
    "print(f\"Model versions: {versions}\")"
   ]
  },
  {
   "cell_type": "markdown",
   "metadata": {},
   "source": [
    "# Get all details"
   ]
  },
  {
   "cell_type": "code",
   "execution_count": 12,
   "metadata": {},
   "outputs": [
    {
     "name": "stdout",
     "output_type": "stream",
     "text": [
      "Project Details (ID: 1):\n",
      "[\n",
      "  {\n",
      "    \"id\": 1,\n",
      "    \"model_name\": \"RandomForestClassifier\",\n",
      "    \"model_description\": \"Random Forest model for churn prediction\",\n",
      "    \"datetime\": \"2024-06-28T11:57:55.825015Z\",\n",
      "    \"project\": 1,\n",
      "    \"versions\": [\n",
      "      {\n",
      "        \"id\": 1,\n",
      "        \"version\": 1,\n",
      "        \"datetime\": \"2024-06-28T11:58:24.350003Z\",\n",
      "        \"model\": 1,\n",
      "        \"metadata\": [\n",
      "          {\n",
      "            \"id\": 1,\n",
      "            \"key\": \"n_estimators\",\n",
      "            \"value\": \"100\",\n",
      "            \"version\": 1\n",
      "          },\n",
      "          {\n",
      "            \"id\": 2,\n",
      "            \"key\": \"max_depth\",\n",
      "            \"value\": \"10\",\n",
      "            \"version\": 1\n",
      "          },\n",
      "          {\n",
      "            \"id\": 3,\n",
      "            \"key\": \"training_data_size\",\n",
      "            \"value\": \"10000\",\n",
      "            \"version\": 1\n",
      "          }\n",
      "        ],\n",
      "        \"performance\": [\n",
      "          {\n",
      "            \"id\": 1,\n",
      "            \"key\": \"accuracy\",\n",
      "            \"value\": \"0.85\",\n",
      "            \"version\": 1\n",
      "          },\n",
      "          {\n",
      "            \"id\": 2,\n",
      "            \"key\": \"f1_score\",\n",
      "            \"value\": \"0.83\",\n",
      "            \"version\": 1\n",
      "          },\n",
      "          {\n",
      "            \"id\": 3,\n",
      "            \"key\": \"auc_roc\",\n",
      "            \"value\": \"0.91\",\n",
      "            \"version\": 1\n",
      "          }\n",
      "        ],\n",
      "        \"status\": {\n",
      "          \"id\": 1,\n",
      "          \"model_status\": \"Testing\",\n",
      "          \"datetime\": \"2024-06-28T12:05:41.937436Z\",\n",
      "          \"version\": 1\n",
      "        }\n",
      "      },\n",
      "      {\n",
      "        \"id\": 2,\n",
      "        \"version\": 2,\n",
      "        \"datetime\": \"2024-06-28T12:06:45.798483Z\",\n",
      "        \"model\": 1,\n",
      "        \"metadata\": [],\n",
      "        \"performance\": [],\n",
      "        \"status\": {\n",
      "          \"model_status\": \"\",\n",
      "          \"version\": null\n",
      "        }\n",
      "      }\n",
      "    ]\n",
      "  }\n",
      "]\n"
     ]
    }
   ],
   "source": [
    "def print_project_details(project_id):\n",
    "    # Retrieve all details for a project\n",
    "    response = requests.get(f\"{base_url}/projects/{project_id}/all_models_details/\")\n",
    "    \n",
    "    if response.status_code == 200:\n",
    "        project_data = response.json()\n",
    "        print(f\"Project Details (ID: {project_id}):\")\n",
    "        print(json.dumps(project_data, indent=2))\n",
    "    else:\n",
    "        print(f\"Failed to retrieve project details. Status code: {response.status_code}\")\n",
    "\n",
    "# Example usage\n",
    "project_id = 1  # Replace with the actual project ID\n",
    "print_project_details(project_id)"
   ]
  },
  {
   "cell_type": "code",
   "execution_count": null,
   "metadata": {},
   "outputs": [],
   "source": []
  }
 ],
 "metadata": {
  "kernelspec": {
   "display_name": "Python 3 (ipykernel)",
   "language": "python",
   "name": "python3"
  },
  "language_info": {
   "codemirror_mode": {
    "name": "ipython",
    "version": 3
   },
   "file_extension": ".py",
   "mimetype": "text/x-python",
   "name": "python",
   "nbconvert_exporter": "python",
   "pygments_lexer": "ipython3",
   "version": "3.12.4"
  }
 },
 "nbformat": 4,
 "nbformat_minor": 4
}
